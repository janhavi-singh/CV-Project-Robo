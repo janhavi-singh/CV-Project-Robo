{
 "cells": [
  {
   "cell_type": "code",
   "execution_count": 65,
   "metadata": {},
   "outputs": [],
   "source": [
    "import numpy as np\n",
    "import cv2 \n",
    "from cv2 import *\n"
   ]
  },
  {
   "cell_type": "code",
   "execution_count": 66,
   "metadata": {},
   "outputs": [],
   "source": [
    "def draw(image, hsv, lower, upper):\n",
    "    frame_threshed = cv2.inRange(hsv, lower, upper)     # Thresholding image\n",
    "    contours, _ = cv2.findContours(frame_threshed, cv2.RETR_TREE, cv2.CHAIN_APPROX_SIMPLE)\n",
    "    for cnt in contours:\n",
    "        if cv2.contourArea(cnt) > 500:\n",
    "            points = cv2.minAreaRect(cnt)\n",
    "            points = np.int32(cv2.boxPoints(points))\n",
    "            dim = abs(points[0][0]-points[2][0]), abs(points[1][1]-points[3][1])\n",
    "            if dim[0]/dim[1] > 0.9 and dim[0]/dim[1] < 1.1:\n",
    "                image = cv2.polylines(image, [points], True, (255, 0, 0), 2)\n",
    "    return image\n"
   ]
  },
  {
   "cell_type": "code",
   "execution_count": 67,
   "metadata": {},
   "outputs": [],
   "source": [
    "img = cv2.imread(\"C:\\\\Users\\\\Janhavi Singh\\\\Desktop\\\\opencv rubik's cube project\\\\cube1.jfif\", -1)"
   ]
  },
  {
   "cell_type": "code",
   "execution_count": 68,
   "metadata": {},
   "outputs": [],
   "source": [
    "hsv_img = cv2.cvtColor(img, cv2.COLOR_BGR2HSV)   # HSV image\n",
    "lower_list = [np.array([102, 120, 100], np.uint8), np.array([21, 110, 117]), np.array([36, 150, 0], np.uint8),\n",
    "               np.array([0, 0, 168], np.uint8), np.array([0, 110, 125], np.uint8)]\n",
    "upper_list = [np.array([179, 255, 255], np.uint8), np.array([45, 255, 255]), np.array([86, 255, 255], np.uint8),\n",
    "                np.array([172, 111, 255], np.uint8), np.array([17, 255, 255], np.uint8)]\n",
    "for lower, upper in zip(lower_list, upper_list):\n",
    "    img = draw(img, hsv_img, lower, upper)\n",
    "\n",
    "cv2.imshow(\"Show\", img)\n",
    "#cv2.imwrite(\"extracted.jpg\", img)\n",
    "cv2.waitKey()\n",
    "cv2.destroyAllWindows()"
   ]
  },
  {
   "cell_type": "code",
   "execution_count": null,
   "metadata": {},
   "outputs": [],
   "source": []
  }
 ],
 "metadata": {
  "kernelspec": {
   "display_name": "Python 3",
   "language": "python",
   "name": "python3"
  },
  "language_info": {
   "codemirror_mode": {
    "name": "ipython",
    "version": 3
   },
   "file_extension": ".py",
   "mimetype": "text/x-python",
   "name": "python",
   "nbconvert_exporter": "python",
   "pygments_lexer": "ipython3",
   "version": "3.8.5"
  }
 },
 "nbformat": 4,
 "nbformat_minor": 4
}
